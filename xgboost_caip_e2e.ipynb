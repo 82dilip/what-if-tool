{
  "nbformat": 4,
  "nbformat_minor": 0,
  "metadata": {
    "colab": {
      "name": "What-If Tool with XGBoost Cloud AI Platform Model - end-to-end",
      "version": "0.3.2",
      "provenance": [],
      "collapsed_sections": []
    },
    "kernelspec": {
      "name": "python3",
      "display_name": "Python 3"
    }
  },
  "cells": [
    {
      "cell_type": "markdown",
      "metadata": {
        "id": "TWrdW148R9kP",
        "colab_type": "text"
      },
      "source": [
        "# Cloud AI Platform + What-if Tool: end-to-end XGBoost example\n",
        "\n",
        "This notebook shows how to: \n",
        "* Build a binary classification model with XGBoost trained on a [mortgage dataset](https://www.ffiec.gov/hmda/hmdaflat.htm)\n",
        "* Deploy the model to [Cloud AI Platform](https://cloud.google.com/ai-platform/)\n",
        "* Use the [What-if Tool](https://pair-code.github.io/what-if-tool/) on your deployed model\n",
        "\n",
        "You will need a Google Cloud Platform account and project to run this notebook. Instructions for creating a project can be found [here](https://cloud.google.com/resource-manager/docs/creating-managing-projects)."
      ]
    },
    {
      "cell_type": "code",
      "metadata": {
        "id": "hSFHu19Rtvbt",
        "colab_type": "code",
        "colab": {}
      },
      "source": [
        "# If you're running on Cloud AI Platform notebooks, you'll need to install xgboost and restart the runtime\n",
        "# !pip3 install xgboost"
      ],
      "execution_count": 0,
      "outputs": []
    },
    {
      "cell_type": "code",
      "metadata": {
        "id": "G-B8Q-4W9X6q",
        "colab_type": "code",
        "colab": {}
      },
      "source": [
        "# You can skip this cell if you're running this from Cloud AI Platform Notebooks\n",
        "\n",
        "# This is the Python package you'll use to access the What-if Tool (WIT)\n",
        "# You can ignore the prompt-toolkit error from this pip install\n",
        "!pip install witwidget --quiet"
      ],
      "execution_count": 0,
      "outputs": []
    },
    {
      "cell_type": "code",
      "metadata": {
        "id": "PzmV_odNPBTb",
        "colab_type": "code",
        "colab": {}
      },
      "source": [
        "# You can skip this cell if you're running this from Cloud AI Platform Notebooks\n",
        "\n",
        "# This is the Python package you'll use to access the What-if Tool (WIT)\n",
        "# You can ignore the prompt-toolkit error from this pip install\n",
        "!pip install witwidget --quiet\n",
        "from google.colab import auth\n",
        "auth.authenticate_user()"
      ],
      "execution_count": 0,
      "outputs": []
    },
    {
      "cell_type": "code",
      "metadata": {
        "id": "CosDxuLy7M4Q",
        "colab_type": "code",
        "colab": {}
      },
      "source": [
        "import pandas as pd\n",
        "import xgboost as xgb\n",
        "import numpy as np\n",
        "import collections\n",
        "import witwidget\n",
        "\n",
        "from sklearn.model_selection import train_test_split\n",
        "from sklearn.metrics import accuracy_score, confusion_matrix\n",
        "from sklearn.utils import shuffle\n",
        "from witwidget.notebook.visualization import WitWidget, WitConfigBuilder"
      ],
      "execution_count": 0,
      "outputs": []
    },
    {
      "cell_type": "markdown",
      "metadata": {
        "id": "bFIxtguO1In_",
        "colab_type": "text"
      },
      "source": [
        "## Download and pre-process data\n",
        "\n",
        "In this section we'll:\n",
        "* Download a subset of the mortgage dataset from Google Cloud Storage\n",
        "* Because XGBoost requires all columns to be numerical, we'll convert all categorical columns to dummy columns (0 or 1 values for each possible category value)\n",
        "* Note that we've already done some pre-processing on the original dataset to convert value codes to strings: for example, an agency code of `1` becomes `Office of the Comptroller of the Currency (OCC)`"
      ]
    },
    {
      "cell_type": "code",
      "metadata": {
        "id": "9BngZjdsO6Mr",
        "colab_type": "code",
        "colab": {}
      },
      "source": [
        "# Use a small subset of the data since the original dataset is too big for Colab (2.5GB)\n",
        "# Data source: https://www.ffiec.gov/hmda/hmdaflat.htm\n",
        "!gsutil cp gs://mortgage_dataset_files/mortgage-small.csv ."
      ],
      "execution_count": 0,
      "outputs": []
    },
    {
      "cell_type": "code",
      "metadata": {
        "id": "rou3YAIFhQCK",
        "colab_type": "code",
        "colab": {}
      },
      "source": [
        "# Set column dtypes for Pandas\n",
        "COLUMN_NAMES = collections.OrderedDict({\n",
        "  'as_of_year': np.int16,\n",
        "  'agency_code': 'category',\n",
        "  'loan_type': 'category',\n",
        "  'property_type': 'category',\n",
        "  'loan_purpose': 'category',\n",
        "  'occupancy': np.int8,\n",
        "  'loan_amt_thousands': np.float64,\n",
        "  'preapproval': 'category',\n",
        "  'county_code': np.float64,\n",
        "  'applicant_income_thousands': np.float64,\n",
        "  'purchaser_type': 'category',\n",
        "  'hoepa_status': 'category',\n",
        "  'lien_status': 'category',\n",
        "  'population': np.float64,\n",
        "  'ffiec_median_fam_income': np.float64,\n",
        "  'tract_to_msa_income_pct': np.float64,\n",
        "  'num_owner_occupied_units': np.float64,\n",
        "  'num_1_to_4_family_units': np.float64,\n",
        "  'approved': np.int8\n",
        "})"
      ],
      "execution_count": 0,
      "outputs": []
    },
    {
      "cell_type": "code",
      "metadata": {
        "id": "18xiylX4_EPO",
        "colab_type": "code",
        "colab": {}
      },
      "source": [
        "# Load data into Pandas\n",
        "data = pd.read_csv(\n",
        "  'mortgage-small.csv', \n",
        "  index_col=False,\n",
        "  dtype=COLUMN_NAMES\n",
        ")\n",
        "data = data.dropna()\n",
        "data = shuffle(data, random_state=2)\n",
        "data.head()"
      ],
      "execution_count": 0,
      "outputs": []
    },
    {
      "cell_type": "code",
      "metadata": {
        "id": "xkt2L4Lh_buo",
        "colab_type": "code",
        "colab": {}
      },
      "source": [
        "# Label preprocessing\n",
        "labels = data['approved'].values\n",
        "\n",
        "# See the distribution of approved / denied classes (0: denied, 1: approved)\n",
        "print(data['approved'].value_counts())"
      ],
      "execution_count": 0,
      "outputs": []
    },
    {
      "cell_type": "code",
      "metadata": {
        "id": "bER0GA7wgSHE",
        "colab_type": "code",
        "colab": {}
      },
      "source": [
        "data = data.drop(columns=['approved'])"
      ],
      "execution_count": 0,
      "outputs": []
    },
    {
      "cell_type": "code",
      "metadata": {
        "id": "dkR8t9I2_fSm",
        "colab_type": "code",
        "colab": {}
      },
      "source": [
        "# Convert categorical columns to dummy columns\n",
        "dummy_columns = list(data.dtypes[data.dtypes == 'category'].index)\n",
        "data = pd.get_dummies(data, columns=dummy_columns)"
      ],
      "execution_count": 0,
      "outputs": []
    },
    {
      "cell_type": "code",
      "metadata": {
        "id": "eQNpBaaiZU5r",
        "colab_type": "code",
        "colab": {}
      },
      "source": [
        "# Preview the data\n",
        "data.head()"
      ],
      "execution_count": 0,
      "outputs": []
    },
    {
      "cell_type": "markdown",
      "metadata": {
        "id": "Mpr23PcBAnM3",
        "colab_type": "text"
      },
      "source": [
        "## Train the XGBoost model"
      ]
    },
    {
      "cell_type": "code",
      "metadata": {
        "id": "qdA3eC9v0tbN",
        "colab_type": "code",
        "colab": {}
      },
      "source": [
        "# Split the data into train / test sets\n",
        "x,y = data,labels\n",
        "x_train,x_test,y_train,y_test = train_test_split(x,y)"
      ],
      "execution_count": 0,
      "outputs": []
    },
    {
      "cell_type": "code",
      "metadata": {
        "id": "GOveA7JAAmr4",
        "colab_type": "code",
        "colab": {}
      },
      "source": [
        "# Train the model, this will take a few minutes to run\n",
        "bst = xgb.XGBClassifier(\n",
        "    objective='reg:logistic'\n",
        ")\n",
        "\n",
        "bst.fit(x_train, y_train)"
      ],
      "execution_count": 0,
      "outputs": []
    },
    {
      "cell_type": "code",
      "metadata": {
        "id": "0YNhqfWpBGLK",
        "colab_type": "code",
        "colab": {}
      },
      "source": [
        "# Get predictions on the test set and print the accuracy score\n",
        "y_pred = bst.predict(x_test)\n",
        "acc = accuracy_score(y_test, y_pred.round())\n",
        "print(acc, '\\n')"
      ],
      "execution_count": 0,
      "outputs": []
    },
    {
      "cell_type": "code",
      "metadata": {
        "id": "_UfHZJfFhcRO",
        "colab_type": "code",
        "colab": {}
      },
      "source": [
        "# Print a confusion matrix\n",
        "print('Confusion matrix:')\n",
        "cm = confusion_matrix(y_test, y_pred.round())\n",
        "cm = cm / cm.astype(np.float).sum(axis=1)\n",
        "print(cm)"
      ],
      "execution_count": 0,
      "outputs": []
    },
    {
      "cell_type": "code",
      "metadata": {
        "id": "VFAZoUs2vvxf",
        "colab_type": "code",
        "colab": {}
      },
      "source": [
        "# Save the model so we can deploy it\n",
        "bst.save_model('model.bst')"
      ],
      "execution_count": 0,
      "outputs": []
    },
    {
      "cell_type": "markdown",
      "metadata": {
        "id": "Lop--kefvU5a",
        "colab_type": "text"
      },
      "source": [
        "## Deploy model to AI Platform\n",
        "\n",
        "Copy your saved model file to Cloud Storage and deploy the model to AI Platform. In order for this to work, you'll need the Cloud AI Platform Models API enabled. Update the values in the next cell with the info for your GCP project."
      ]
    },
    {
      "cell_type": "code",
      "metadata": {
        "id": "m454ISwGiP7Q",
        "colab_type": "code",
        "colab": {}
      },
      "source": [
        "# Define some globals - update these to your own project + model names\n",
        "GCP_PROJECT = 'YOUR_GCP_PROJECT'\n",
        "MODEL_BUCKET = 'gs://your_storage_bucket'\n",
        "MODEL_NAME = 'your_model_name' # You'll create this model below\n",
        "VERSION_NAME = 'v1'"
      ],
      "execution_count": 0,
      "outputs": []
    },
    {
      "cell_type": "code",
      "metadata": {
        "id": "f9VlzVTEvtiq",
        "colab_type": "code",
        "colab": {}
      },
      "source": [
        "# Copy your model file to Cloud Storage\n",
        "!gsutil cp ./model.bst $MODEL_BUCKET"
      ],
      "execution_count": 0,
      "outputs": []
    },
    {
      "cell_type": "code",
      "metadata": {
        "id": "ew-GyuFHine9",
        "colab_type": "code",
        "colab": {}
      },
      "source": [
        "# Create a model\n",
        "!gcloud ai-platform models create $MODEL_NAME"
      ],
      "execution_count": 0,
      "outputs": []
    },
    {
      "cell_type": "code",
      "metadata": {
        "id": "h14oBXAtvUYE",
        "colab_type": "code",
        "colab": {}
      },
      "source": [
        "# Create a version, this will take ~2 minutes to deploy\n",
        "!gcloud ai-platform versions create $VERSION_NAME \\\n",
        "--model=$MODEL_NAME \\\n",
        "--framework='XGBOOST' \\\n",
        "--runtime-version=1.13 \\\n",
        "--origin=$MODEL_BUCKET \\\n",
        "--python-version=3.5 \\\n",
        "--project=$GCP_PROJECT"
      ],
      "execution_count": 0,
      "outputs": []
    },
    {
      "cell_type": "markdown",
      "metadata": {
        "id": "-8xNn8EhgUi7",
        "colab_type": "text"
      },
      "source": [
        "## Using the What-if Tool to interpret your model\n",
        "Once your model has deployed, you're ready to connect it to the What-if Tool using the `WitWidget`."
      ]
    },
    {
      "cell_type": "code",
      "metadata": {
        "id": "QzDqyqgzvV0E",
        "colab_type": "code",
        "colab": {}
      },
      "source": [
        "# Format a subset of the test data to send to the What-if Tool for visualization\n",
        "# Append ground truth label value to training data\n",
        "\n",
        "# This is the number of examples you want to display in the What-if Tool\n",
        "num_wit_examples = 500\n",
        "test_examples = np.hstack((x_test[:num_wit_examples].values,y_test[:num_wit_examples].reshape(-1,1)))"
      ],
      "execution_count": 0,
      "outputs": []
    },
    {
      "cell_type": "code",
      "metadata": {
        "id": "dqAbAmxkgW4p",
        "colab_type": "code",
        "colab": {}
      },
      "source": [
        "# Create a What-if Tool visualization\n",
        "# See the cell below this for exploration ideas\n",
        "\n",
        "# This prediction adjustment function is needed as this xgboost model's\n",
        "# prediction returns just a score for the positive class of the binary\n",
        "# classification, whereas the What-If Tool expects a list of scores for each\n",
        "# class (in this case, both the negative class and the positive class).\n",
        "def adjust_prediction(pred):\n",
        "  return [1 - pred, pred]\n",
        "\n",
        "config_builder = (WitConfigBuilder(test_examples.tolist(), data.columns.tolist() + ['mortgage_status'])\n",
        "  .set_ai_platform_model(GCP_PROJECT, MODEL_NAME, VERSION_NAME, adjust_prediction=adjust_prediction)\n",
        "  .set_target_feature('mortgage_status')\n",
        "  .set_label_vocab(['denied', 'approved']))\n",
        "WitWidget(config_builder, height=800)"
      ],
      "execution_count": 0,
      "outputs": []
    },
    {
      "cell_type": "markdown",
      "metadata": {
        "id": "_B2BskDk55rk",
        "colab_type": "text"
      },
      "source": [
        "## What-if Tool exploration ideas\n",
        "\n",
        "* **Individual data points**: the default graph shows all data points from the test set, colored by their ground truth label (approved or denied)\n",
        "  * Try selecting data points close to the middle and tweaking some of their feature values. Then run inference again to see if the model prediction changes\n",
        "  * Select a data point and then select the \"Show nearest counterfactual datapoint\" radio button. This will highlight a data point with feature values closest to your original one, but with the opposite prediction\n",
        "  \n",
        "* **Binning data**: create separate graphs for individual features\n",
        "  * From the \"Binning - X axis\" dropdown, try selecting one of the agency codes, for example \"Department of Housing and Urban Development (HUD)\". This will create 2 separate graphs, one for loan applications from the HUD (graph labeled 1), and one for all other agencies (graph labeled 0). This shows us that loans from this agency are more likely to be denied\n",
        "  \n",
        "* **Exploring overall performance**: Click on the \"Performance & Fairness\" tab to view overall performance statistics on the model's results on the provided dataset, including confusion matrices, PR curves, and ROC curves.\n",
        "   * Experiment with the threshold slider, raising and lowering the positive classification score the model needs to return before it decides to predict \"approved\" for the loan, and see how it changes accuracy, false positives, and false negatives.\n",
        "   * On the left side \"Slice by\" menu, select \"loan_purpose_Home purchase\". You'll now see performance on the two subsets of your data: the \"0\" slice shows when the loan is not for a home purchase, and the \"1\" slice is for when the loan is for a home purchase. Check out the accuracy, false postive, and false negative rate between the two slices to look for differences in performance. If you expand the rows to look at the confusion matrices, you can see that the model predicts \"approved\" for the loan 75% of the time for home purchases and only 56% of the time for non-purchases.\n",
        "   * You can use the optimization buttons on the left side to have the tool auto-select different positive classification thresholds for each slice in order to achieve different goals. If you select the \"Demographic parity\" button, then the two thresholds will be adjusted so that the model predicts \"approved\" for a similar percentage of applicants in both slices. What does this do to the accuracy, false positives and false negatives for each slice?\n"
      ]
    }
  ]
}